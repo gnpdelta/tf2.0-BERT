{
 "cells": [
  {
   "cell_type": "code",
   "execution_count": 0,
   "metadata": {
    "colab": {},
    "colab_type": "code",
    "id": "lNFoDYVgoX4B"
   },
   "outputs": [],
   "source": [
    "# Download the bert code from github.\n",
    "!git clone https://github.com/tensorflow/models.git\n",
    "# Download necessary files from my github.\n",
    "!git clone https://github.com/liloi/bert-tf2.git\n",
    "\n",
    "# Install tf-nightly and bert depencency\n",
    "# NOTE: Click \"RESTART RUNTIME\" button to restart the runtime environment after installing above.\n",
    "!pip install tf-nightly-gpu\n",
    "!pip install --user -r /content/models/official/requirements.txt\n",
    "\n",
    "# Thers's some bug of tensorboard in colab so uninstall tensorboard and reinstall tb-nightly.\n",
    "!pip uninstall tensorboard\n",
    "!pip install --force-reinstall tb-nightly"
   ]
  },
  {
   "cell_type": "code",
   "execution_count": 0,
   "metadata": {
    "colab": {},
    "colab_type": "code",
    "id": "QyvnkoUbuKjx"
   },
   "outputs": [],
   "source": [
    "# 1. Add yourself data processing code in classifier_data_lib.py and create_finetuning_data.py  \n",
    "# 2. Put them into \"models\" directory to replace original files.\n",
    "!mv ./bert-tf2/modified_code/classifier_data_lib.py models/official/nlp/bert/classifier_data_lib.py\n",
    "!mv ./bert-tf2/modified_code/create_finetuning_data.py models/official/nlp/bert/create_finetuning_data.py"
   ]
  },
  {
   "cell_type": "code",
   "execution_count": 0,
   "metadata": {
    "colab": {},
    "colab_type": "code",
    "id": "pQ3jtVTEkZ2S"
   },
   "outputs": [],
   "source": [
    "# Set environment variables.\n",
    "%set_env PYTHONPATH=/content/models\n",
    "%set_env TASK_NAME=WEIBO\n",
    "%set_env CONFIG_FILE=/content/bert-tf2/config_file\n",
    "%set_env DATA_DIR=/content/bert-tf2/train_data\n",
    "%set_env OUTPUT_DIR=/content/output\n",
    "%set_env MODEL_HUB_URL=https://tfhub.dev/tensorflow/bert_zh_L-12_H-768_A-12/1"
   ]
  },
  {
   "cell_type": "code",
   "execution_count": 0,
   "metadata": {
    "colab": {},
    "colab_type": "code",
    "id": "yyDamUNDfCg0"
   },
   "outputs": [],
   "source": [
    "# Create train and eval data with tf_record format.\n",
    "!python ./models/official/nlp/bert/create_finetuning_data.py \\\n",
    "    --input_data_dir=${DATA_DIR} \\\n",
    "    --vocab_file=${CONFIG_FILE}/vocab.txt \\\n",
    "    --train_data_output_path=${DATA_DIR}/${TASK_NAME}_train.tf_record \\\n",
    "    --eval_data_output_path=${DATA_DIR}/${TASK_NAME}_eval.tf_record \\\n",
    "    --test_data_output_path=${DATA_DIR}/${TASK_NAME}_test.tf_record \\\n",
    "    --meta_data_file_path=${DATA_DIR}/${TASK_NAME}_meta_data \\\n",
    "    --fine_tuning_task_type=classification \\\n",
    "    --max_seq_length=128 \\\n",
    "    --classification_task_name=${TASK_NAME}"
   ]
  },
  {
   "cell_type": "code",
   "execution_count": 0,
   "metadata": {
    "colab": {},
    "colab_type": "code",
    "id": "w3iSdrvClTCD"
   },
   "outputs": [],
   "source": [
    "# Start to train and eval...\n",
    "!python ./models/official/nlp/bert/run_classifier.py \\\n",
    "    --mode='train_and_eval' \\\n",
    "    --input_meta_data_path=${DATA_DIR}/${TASK_NAME}_meta_data \\\n",
    "    --train_data_path=${DATA_DIR}/${TASK_NAME}_train.tf_record \\\n",
    "    --eval_data_path=${DATA_DIR}/${TASK_NAME}_eval.tf_record \\\n",
    "    --test_data_path=${DATA_DIR}/${TASK_NAME}_test.tf_record \\\n",
    "    --bert_config_file=${CONFIG_FILE}/bert_config.json \\\n",
    "    --train_batch_size=32 \\\n",
    "    --eval_batch_size=32 \\\n",
    "    --steps_per_loop=1 \\\n",
    "    --learning_rate=2e-5 \\\n",
    "    --num_train_epochs=8 \\\n",
    "    --model_dir=${OUTPUT_DIR} \\\n",
    "    --distribution_strategy=mirrored \\\n",
    "    --hub_module_url=${MODEL_HUB_URL} \\\n",
    "    --use_keras_compile_fit=True \\\n",
    "    --num_gpus=1"
   ]
  },
  {
   "cell_type": "code",
   "execution_count": 0,
   "metadata": {
    "colab": {},
    "colab_type": "code",
    "id": "2Io8ZnMQ5BB2"
   },
   "outputs": [],
   "source": [
    "# view summaries in tensorboard\n",
    "%reload_ext tensorboard\n",
    "%tensorboard --logdir=/content/output/summaries/ "
   ]
  }
 ],
 "metadata": {
  "accelerator": "GPU",
  "colab": {
   "authorship_tag": "ABX9TyNJj5fu5V4/0ox+M8IpeT5Z",
   "collapsed_sections": [],
   "name": "bert-tf2-zh-demo.ipynb",
   "provenance": []
  },
  "kernelspec": {
   "display_name": "Python 3",
   "language": "python",
   "name": "python3"
  },
  "language_info": {
   "codemirror_mode": {
    "name": "ipython",
    "version": 3
   },
   "file_extension": ".py",
   "mimetype": "text/x-python",
   "name": "python",
   "nbconvert_exporter": "python",
   "pygments_lexer": "ipython3",
   "version": "3.7.1"
  }
 },
 "nbformat": 4,
 "nbformat_minor": 1
}
